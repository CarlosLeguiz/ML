{
  "nbformat": 4,
  "nbformat_minor": 0,
  "metadata": {
    "colab": {
      "provenance": []
    },
    "kernelspec": {
      "name": "python3",
      "display_name": "Python 3"
    },
    "language_info": {
      "name": "python"
    }
  },
  "cells": [
    {
      "cell_type": "code",
      "execution_count": 4,
      "metadata": {
        "id": "3vNR4y09RKnC"
      },
      "outputs": [],
      "source": [
        "import tensorflow as tf\n",
        "import numpy as np"
      ]
    },
    {
      "cell_type": "markdown",
      "source": [
        "definimos celsius y fahrenheit"
      ],
      "metadata": {
        "id": "ZOQtCG9oSYLS"
      }
    },
    {
      "cell_type": "code",
      "source": [
        "celsius = np.array([-40, -10,0,8,15,22,38], dtype=float)\n",
        "fahrenheit = np.array([-40, 14, 32, 46, 59,72, 100], dtype=float)"
      ],
      "metadata": {
        "id": "tyCQZpv1ReuK"
      },
      "execution_count": 5,
      "outputs": []
    },
    {
      "cell_type": "markdown",
      "source": [
        "Definimos las capas con KERAS en este caso solo una entrada y una salida"
      ],
      "metadata": {
        "id": "PUPgJt7A-h_w"
      }
    },
    {
      "cell_type": "code",
      "source": [
        "capa = tf.keras.layers.Dense(units=1, input_shape=[1])\n",
        "modelo = tf.keras.Sequential([capa])"
      ],
      "metadata": {
        "id": "deXAQbIjSf7G"
      },
      "execution_count": 6,
      "outputs": []
    },
    {
      "cell_type": "markdown",
      "source": [
        "Optimizamos el modelo con el optimizador Adam (explayar)"
      ],
      "metadata": {
        "id": "yjaiUFVn-lgy"
      }
    },
    {
      "cell_type": "code",
      "source": [
        "modelo.compile(\n",
        "    optimizer=tf.keras.optimizers.Adam(0.1),\n",
        "    loss='mean_squared_error'\n",
        ")"
      ],
      "metadata": {
        "id": "DoQJl-nk9OjU"
      },
      "execution_count": 7,
      "outputs": []
    },
    {
      "cell_type": "markdown",
      "source": [
        "Entrenamos el modelo"
      ],
      "metadata": {
        "id": "LNarPPQC-pLm"
      }
    },
    {
      "cell_type": "code",
      "source": [
        "print('Comenzamos a entrenar')\n",
        "historial = modelo.fit(celsius, fahrenheit, epochs=1000, verbose=False)\n",
        "print(\"Modelo entrenado, ya esta listo para hacer predicciones\")"
      ],
      "metadata": {
        "colab": {
          "base_uri": "https://localhost:8080/"
        },
        "id": "hGTad6_S-OlG",
        "outputId": "7440162e-d493-454b-83b9-bcd1a2ad9cce"
      },
      "execution_count": 9,
      "outputs": [
        {
          "output_type": "stream",
          "name": "stdout",
          "text": [
            "Comenzamos a entrenar\n",
            "Modelo entrenado, ya esta listo para hacer predicciones\n"
          ]
        }
      ]
    },
    {
      "cell_type": "code",
      "source": [
        "##Acá aplicaremos una funcion de perdida para saber que tan mal estan los resultados de la red en cada vuelta que dio\n",
        "import matplotlib.pyplot as plt\n",
        "plt.xlabel(\"# Epoca\")\n",
        "plt.ylabel(\"Magnitud de pérdida\")\n",
        "plt.plot(historial.history[\"loss\"])\n"
      ],
      "metadata": {
        "colab": {
          "base_uri": "https://localhost:8080/",
          "height": 467
        },
        "id": "ldfh9D-o-azO",
        "outputId": "ee8a4c7b-3dab-4ba1-bf80-0d22cfc77873"
      },
      "execution_count": 10,
      "outputs": [
        {
          "output_type": "execute_result",
          "data": {
            "text/plain": [
              "[<matplotlib.lines.Line2D at 0x79c8f0df4130>]"
            ]
          },
          "metadata": {},
          "execution_count": 10
        },
        {
          "output_type": "display_data",
          "data": {
            "text/plain": [
              "<Figure size 640x480 with 1 Axes>"
            ],
            "image/png": "[encoded data removed]"
          },
          "metadata": {}
        }
      ]
    },
    {
      "cell_type": "markdown",
      "source": [
        "De resultado, lo que podemos ver es que tardó casi 200 vueltas en dejar de producir errores"
      ],
      "metadata": {
        "id": "2gxmSm5q_fCF"
      }
    },
    {
      "cell_type": "markdown",
      "source": [
        "Pongamos a predecir!! en este caso, podrá predecir cuanto son 100 grados celsius?"
      ],
      "metadata": {
        "id": "5cOiuI0pAiyo"
      }
    },
    {
      "cell_type": "code",
      "source": [
        "print(\"Hagamos la predicción\")\n",
        "resultado = modelo.predict([100.0])\n",
        "print(\"Resultado es\" + str(resultado) + \" fahrenheit!\")"
      ],
      "metadata": {
        "colab": {
          "base_uri": "https://localhost:8080/"
        },
        "id": "r9xTNdMf_VqP",
        "outputId": "4a4817b5-b381-47d1-acee-56bd8cf37eb7"
      },
      "execution_count": 12,
      "outputs": [
        {
          "output_type": "stream",
          "name": "stdout",
          "text": [
            "Hagamos la predicción\n",
            "1/1 [==============================] - 0s 42ms/step\n",
            "Resultado es[[211.74742]] fahrenheit!\n"
          ]
        }
      ]
    },
    {
      "cell_type": "markdown",
      "source": [
        "WOW! podemos ver que nos dio como resultado un numero casi exacto! pero ahora.... que variables habra usado dentro del proceso como peso y sesgo? vamos a ver..."
      ],
      "metadata": {
        "id": "xqgd3fDBAsMA"
      }
    },
    {
      "cell_type": "code",
      "source": [
        "print(\"Variables interanas del modelo\")\n",
        "print(capa.get_weights())"
      ],
      "metadata": {
        "colab": {
          "base_uri": "https://localhost:8080/"
        },
        "id": "K2gDdJwkAZ2R",
        "outputId": "0b9b1fae-320b-42c4-c74c-ee155027177b"
      },
      "execution_count": 13,
      "outputs": [
        {
          "output_type": "stream",
          "name": "stdout",
          "text": [
            "Variables interanas del modelo\n",
            "[array([[1.7979494]], dtype=float32), array([31.95248], dtype=float32)]\n"
          ]
        }
      ]
    },
    {
      "cell_type": "markdown",
      "source": [
        "Como vemos en el resultado, podemos ver que nos da un peso de 1.797 y un sesgo de 31.952 que es increible"
      ],
      "metadata": {
        "id": "soUUHwnAB4bu"
      }
    },
    {
      "cell_type": "markdown",
      "source": [
        "# Acá hago la prueba pero con mas capas"
      ],
      "metadata": {
        "id": "_o3m-epRDwme"
      }
    },
    {
      "cell_type": "code",
      "source": [
        "oculta1 = tf.keras.layers.Dense (units=3, input_shape=[1])\n",
        "oculta2 = tf.keras.layers.Dense (units=3)\n",
        "salida = tf.keras.layers.Dense (units=3)\n",
        "modelo = tf.keras.Sequential([oculta1, oculta2, salida])\n"
      ],
      "metadata": {
        "id": "M4JKUcEnA6PB"
      },
      "execution_count": 15,
      "outputs": []
    },
    {
      "cell_type": "code",
      "source": [
        "modelo.compile(\n",
        "    optimizer=tf.keras.optimizers.Adam(0.1),\n",
        "    loss='mean_squared_error'\n",
        ")"
      ],
      "metadata": {
        "id": "1fsbdVNCCb6e"
      },
      "execution_count": 16,
      "outputs": []
    },
    {
      "cell_type": "code",
      "source": [
        "print('Comenzamos a entrenar')\n",
        "historial = modelo.fit(celsius, fahrenheit, epochs=1000, verbose=False)\n",
        "print(\"Modelo entrenado, ya esta listo para hacer predicciones\")"
      ],
      "metadata": {
        "colab": {
          "base_uri": "https://localhost:8080/"
        },
        "id": "zS6vwDznCkxu",
        "outputId": "afc379bd-3444-4f2c-837e-92d2c3f2cacd"
      },
      "execution_count": 17,
      "outputs": [
        {
          "output_type": "stream",
          "name": "stdout",
          "text": [
            "Comenzamos a entrenar\n",
            "Modelo entrenado, ya esta listo para hacer predicciones\n"
          ]
        }
      ]
    },
    {
      "cell_type": "code",
      "source": [
        "##Acá aplicaremos una funcion de perdida para saber que tan mal estan los resultados de la red en cada vuelta que dio\n",
        "import matplotlib.pyplot as plt\n",
        "plt.xlabel(\"# Epoca\")\n",
        "plt.ylabel(\"Magnitud de pérdida\")\n",
        "plt.plot(historial.history[\"loss\"])\n"
      ],
      "metadata": {
        "colab": {
          "base_uri": "https://localhost:8080/",
          "height": 467
        },
        "id": "lctyzKVCCnOK",
        "outputId": "60fa4997-90b4-42bb-9229-bf7af6da7665"
      },
      "execution_count": 18,
      "outputs": [
        {
          "output_type": "execute_result",
          "data": {
            "text/plain": [
              "[<matplotlib.lines.Line2D at 0x79c8e38b95d0>]"
            ]
          },
          "metadata": {},
          "execution_count": 18
        },
        {
          "output_type": "display_data",
          "data": {
            "text/plain": [
              "<Figure size 640x480 with 1 Axes>"
            ],
            "image/png": "[encoded data removed]"
          },
          "metadata": {}
        }
      ]
    },
    {
      "cell_type": "code",
      "source": [
        "print(\"Variables interanas del modelo\")\n",
        "print(oculta1.get_weights())\n",
        "print(oculta2.get_weights())\n",
        "print(salida.get_weights())"
      ],
      "metadata": {
        "colab": {
          "base_uri": "https://localhost:8080/"
        },
        "id": "KobCVPL1CvPk",
        "outputId": "fc298959-b46d-4853-b408-6822a555ec63"
      },
      "execution_count": 21,
      "outputs": [
        {
          "output_type": "stream",
          "name": "stdout",
          "text": [
            "Variables interanas del modelo\n",
            "[array([[0.37151933, 0.4856561 , 0.08409096]], dtype=float32), array([ 4.021334 ,  3.6460598, -2.8827646], dtype=float32)]\n",
            "[array([[ 0.5720433 , -1.0094545 ,  1.6222934 ],\n",
            "       [-0.36902377,  0.23877251,  1.8642608 ],\n",
            "       [ 0.6815187 , -0.01922614, -1.0312867 ]], dtype=float32), array([3.2811868, 2.106796 , 3.971479 ], dtype=float32)]\n",
            "[array([[1.7993026 , 1.1172926 , 0.8522409 ],\n",
            "       [0.5715672 , 0.9695855 , 0.26230708],\n",
            "       [1.2550503 , 1.371528  , 1.2587079 ]], dtype=float32), array([3.018164 , 2.6154146, 4.7777495], dtype=float32)]\n"
          ]
        }
      ]
    },
    {
      "cell_type": "code",
      "source": [],
      "metadata": {
        "id": "Rn49hAcuDJC8"
      },
      "execution_count": null,
      "outputs": []
    }
  ]
}